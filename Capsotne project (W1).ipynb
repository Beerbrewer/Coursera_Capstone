{
 "cells": [
  {
   "cell_type": "markdown",
   "metadata": {},
   "source": [
    "# Capstone Project - The Battle of Neighborhoods (Week 1)"
   ]
  },
  {
   "cell_type": "markdown",
   "metadata": {},
   "source": [
    "A description of the problem and a discussion of the background. (15 marks)\n"
   ]
  },
  {
   "cell_type": "markdown",
   "metadata": {},
   "source": [
    "## __1. Introduction/Business Problem:__\n"
   ]
  },
  {
   "cell_type": "markdown",
   "metadata": {},
   "source": [
    "\n",
    "Clearly define a problem or an idea of your choice, where you would need to leverage the Foursquare location data to solve or execute. Remember that data science problems always target an audience and are meant to help a group of stakeholders solve a problem, so make sure that you explicitly describe your audience and why they would care about your problem."
   ]
  },
  {
   "cell_type": "markdown",
   "metadata": {},
   "source": [
    "__Introduction__ /\n",
    "To find the best place in London to open a new bar after the pandemic has subsided. The target audience is anyone looking to open a new food service or bar in London. This is also needs to be in a safer part of London so we will look at crime stats for the areas we are interested in.\n",
    "- We need the Foursquare data to find locations that have other food service facitlites in the area.\n",
    "- Using publicly available data on crime stats for London.\n",
    "\n",
    "We would like to understand two aspects of crime based on the following questions:\n",
    "  - What is the change in the number of crime incidents from 2019 - 2020?\n",
    "  - What were the top 3 crimes per borough in 2019?"
   ]
  },
  {
   "cell_type": "code",
   "execution_count": null,
   "metadata": {},
   "outputs": [],
   "source": []
  },
  {
   "cell_type": "markdown",
   "metadata": {},
   "source": [
    "## __2. Describe the data that you will be using to solve the problem or execute your idea.__\n"
   ]
  },
  {
   "cell_type": "markdown",
   "metadata": {},
   "source": [
    "\n",
    "The data we are going to use is:\n",
    "- Foursquare API data on London boroughs for restuarants and areas of good footfall for the new food/beverage service business.\n",
    "- UK crime data on on the type of crime in the various boroughs.\n",
    "\n",
    "First we use the Foursquare to identify areas in London that could be of interest for our business interests.\n",
    "\n",
    "Then we can use the Kaggle data set to explore the crime in London:\n",
    "https://www.kaggle.com/LondonDataStore/london-crime\n"
   ]
  }
 ],
 "metadata": {
  "kernelspec": {
   "display_name": "Python",
   "language": "python",
   "name": "conda-env-python-py"
  },
  "language_info": {
   "codemirror_mode": {
    "name": "ipython",
    "version": 3
   },
   "file_extension": ".py",
   "mimetype": "text/x-python",
   "name": "python",
   "nbconvert_exporter": "python",
   "pygments_lexer": "ipython3",
   "version": "3.6.12"
  }
 },
 "nbformat": 4,
 "nbformat_minor": 4
}
